{
 "cells": [
  {
   "cell_type": "code",
   "execution_count": 13,
   "id": "0f728173",
   "metadata": {},
   "outputs": [
    {
     "name": "stdout",
     "output_type": "stream",
     "text": [
      "1372\n"
     ]
    }
   ],
   "source": [
    "l=int(input())\n",
    "m=int(input())\n",
    "n=int(input())\n",
    "o=int(input())\n",
    "p=int(input())\n",
    "q=int(input())\n",
    "print((l*m)+(n*o)+(p*q))"
   ]
  },
  {
   "cell_type": "code",
   "execution_count": 7,
   "id": "873806d5",
   "metadata": {},
   "outputs": [
    {
     "name": "stdout",
     "output_type": "stream",
     "text": [
      "addition: 19\n",
      "subtraction 11\n",
      "multiplication 60\n",
      "division 3.75\n",
      "modulus 3\n"
     ]
    }
   ],
   "source": [
    "a=int(input())\n",
    "b=int(input())\n",
    "print(\"addition:\",a+b)\n",
    "print(\"subtraction\",a-b)\n",
    "print(\"multiplication\",a*b)\n",
    "print(\"division\",a/b)\n",
    "print(\"modulus\",a%b)\n"
   ]
  },
  {
   "cell_type": "code",
   "execution_count": 10,
   "id": "42722afd",
   "metadata": {},
   "outputs": [
    {
     "name": "stdout",
     "output_type": "stream",
     "text": [
      "B\n"
     ]
    }
   ],
   "source": [
    "a=int(input())\n",
    "if a>90:\n",
    "    print('A+')\n",
    "elif a>80 and a<90:\n",
    "    print('A')\n",
    "elif a>70 and a<79:\n",
    "    print('B')\n",
    "else:\n",
    "    print('fail')\n"
   ]
  },
  {
   "cell_type": "code",
   "execution_count": 12,
   "id": "3567a793",
   "metadata": {},
   "outputs": [
    {
     "name": "stdout",
     "output_type": "stream",
     "text": [
      "heighest 5\n",
      "Lowest 1\n",
      "average 3.0\n"
     ]
    }
   ],
   "source": [
    "a=list(map(int,input().split()))\n",
    "print(\"heighest\",max(a))\n",
    "print(\"Lowest\",min(a))\n",
    "k=sum(a)\n",
    "a=len(a)\n",
    "p=k/a\n",
    "print(\"average\",p)\n"
   ]
  },
  {
   "cell_type": "code",
   "execution_count": 22,
   "id": "b5afb3e2",
   "metadata": {},
   "outputs": [
    {
     "name": "stdout",
     "output_type": "stream",
     "text": [
      "9123456780\n"
     ]
    }
   ],
   "source": [
    "m = { \"Suhel\": 9876543210, \"Ravi\": 9123456780, \"Anita\": 9988776655 }\n",
    "p = m.get(\"Ravi\")\n",
    "print(p)\n"
   ]
  }
 ],
 "metadata": {
  "kernelspec": {
   "display_name": "Python 3",
   "language": "python",
   "name": "python3"
  },
  "language_info": {
   "codemirror_mode": {
    "name": "ipython",
    "version": 3
   },
   "file_extension": ".py",
   "mimetype": "text/x-python",
   "name": "python",
   "nbconvert_exporter": "python",
   "pygments_lexer": "ipython3",
   "version": "3.11.0"
  }
 },
 "nbformat": 4,
 "nbformat_minor": 5
}
