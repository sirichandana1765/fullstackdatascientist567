{
 "cells": [
  {
   "cell_type": "code",
   "execution_count": 8,
   "id": "7419d467",
   "metadata": {},
   "outputs": [
    {
     "name": "stdout",
     "output_type": "stream",
     "text": [
      "It’s cold, wear warm clothes!\n"
     ]
    }
   ],
   "source": [
    "n=30\n",
    "if m==35:\n",
    "    print(\"Too hot, stay indoors!\")\n",
    "elif m>20 and m<35:\n",
    "    print(\"Nice weather, go out!\")\n",
    "else:\n",
    "    print(\"It’s cold, wear warm clothes!\"\n",
    ")"
   ]
  },
  {
   "cell_type": "code",
   "execution_count": 9,
   "id": "3fb89f90",
   "metadata": {},
   "outputs": [
    {
     "name": "stdout",
     "output_type": "stream",
     "text": [
      "taken\n"
     ]
    }
   ],
   "source": [
    "m=3000\n",
    "if m%100==0:\n",
    "    print(\"taken\")\n",
    "else:\n",
    "    print(\"no\")"
   ]
  },
  {
   "cell_type": "code",
   "execution_count": 11,
   "id": "8198e8f9",
   "metadata": {},
   "outputs": [
    {
     "name": "stdout",
     "output_type": "stream",
     "text": [
      "not\n"
     ]
    }
   ],
   "source": [
    "m=int(input())\n",
    "k=int(input())\n",
    "f=(m/k)*100\n",
    "if f>75:\n",
    "    print(\"eligible\")\n",
    "else:\n",
    "    print(\"not\")"
   ]
  },
  {
   "cell_type": "code",
   "execution_count": 13,
   "id": "4fb4498f",
   "metadata": {},
   "outputs": [
    {
     "name": "stdout",
     "output_type": "stream",
     "text": [
      "5000\n"
     ]
    }
   ],
   "source": [
    "m=10\n",
    "if m==1:\n",
    "    print(500)\n",
    "elif m>1 and m<6:\n",
    "    print(2700)\n",
    "else:\n",
    "    print(5000)"
   ]
  },
  {
   "cell_type": "code",
   "execution_count": 14,
   "id": "093d34af",
   "metadata": {},
   "outputs": [
    {
     "name": "stdout",
     "output_type": "stream",
     "text": [
      "1015\n"
     ]
    }
   ],
   "source": [
    "m=1000\n",
    "if m<500:\n",
    "    print(m+5)\n",
    "elif m>500 and m<1000:\n",
    "    print(m+10)\n",
    "else:\n",
    "    print(m+15)"
   ]
  },
  {
   "cell_type": "code",
   "execution_count": 19,
   "id": "39a41ec1",
   "metadata": {},
   "outputs": [
    {
     "name": "stdout",
     "output_type": "stream",
     "text": [
      "prime\n"
     ]
    }
   ],
   "source": [
    "m = 7\n",
    "if m <= 1:\n",
    "    print(\"not\")\n",
    "elif m == 2:\n",
    "    print(\"prime\")\n",
    "elif m % 2 == 0:\n",
    "    print(\"not\")\n",
    "else:\n",
    "    for i in range(3, int(m**0.5)+1, 2):\n",
    "        if m % i == 0:\n",
    "            print(\"not\")\n",
    "            break\n",
    "    else:\n",
    "        print(\"prime\")\n"
   ]
  },
  {
   "cell_type": "code",
   "execution_count": 21,
   "id": "56476482",
   "metadata": {},
   "outputs": [
    {
     "name": "stdout",
     "output_type": "stream",
     "text": [
      "False\n"
     ]
    }
   ],
   "source": [
    "m=68\n",
    "c=0\n",
    "for i in range(1,m):\n",
    "    if m%i==0:\n",
    "        c=c+i\n",
    "print( m==c)"
   ]
  },
  {
   "cell_type": "code",
   "execution_count": 23,
   "id": "3ec8dc73",
   "metadata": {},
   "outputs": [
    {
     "name": "stdout",
     "output_type": "stream",
     "text": [
      "free\n"
     ]
    }
   ],
   "source": [
    "m=900\n",
    "if m>500:\n",
    "    print(\"free\")\n",
    "else:\n",
    "    print(m+50)"
   ]
  },
  {
   "cell_type": "code",
   "execution_count": 24,
   "id": "7c525095",
   "metadata": {},
   "outputs": [
    {
     "name": "stdout",
     "output_type": "stream",
     "text": [
      "27.200000000000003\n"
     ]
    }
   ],
   "source": [
    "\n",
    "t = float(input())\n",
    "a = int(input())\n",
    "i = input(\"Are you a student? (yes/no): \").strip().lower()\n",
    "\n",
    "\n",
    "d = 0\n",
    "\n",
    "if i == \"yes\":\n",
    "    d = 0.20  \n",
    "elif a >= 60:\n",
    "    d = 0.10  \n",
    "\n",
    "\n",
    "f = t* (1 - d)\n",
    "\n",
    "\n",
    "print(f)\n"
   ]
  },
  {
   "cell_type": "code",
   "execution_count": 25,
   "id": "839b9616",
   "metadata": {},
   "outputs": [
    {
     "name": "stdout",
     "output_type": "stream",
     "text": [
      "B\n"
     ]
    }
   ],
   "source": [
    "\n",
    "marks = int(input())\n",
    "\n",
    "\n",
    "if 90 <= marks <= 100:\n",
    "    grade = 'A'\n",
    "elif 75 <= marks < 90:\n",
    "    grade = 'B'\n",
    "elif 50 <= marks < 75:\n",
    "    grade = 'C'\n",
    "elif 0 <= marks < 50:\n",
    "    grade = 'Fail'\n",
    "else:\n",
    "    grade = 'Invalid input'\n",
    "\n",
    "\n",
    "print(grade)\n"
   ]
  },
  {
   "cell_type": "code",
   "execution_count": 26,
   "id": "d2e6d204",
   "metadata": {},
   "outputs": [
    {
     "name": "stdout",
     "output_type": "stream",
     "text": [
      "1\n",
      "5\n"
     ]
    }
   ],
   "source": [
    "\n",
    "t = input()\n",
    "\n",
    "\n",
    "u = 0\n",
    "l = 0\n",
    "\n",
    "\n",
    "for char in t:\n",
    "    if char.isupper():\n",
    "        u += 1\n",
    "    elif char.islower():\n",
    "        l += 1\n",
    "\n",
    "\n",
    "print(u)\n",
    "print(l)\n"
   ]
  },
  {
   "cell_type": "code",
   "execution_count": 28,
   "id": "9d9be61a",
   "metadata": {},
   "outputs": [
    {
     "name": "stdout",
     "output_type": "stream",
     "text": [
      "0 1 1 2 3 5 8 "
     ]
    }
   ],
   "source": [
    "\n",
    "n = int(input())\n",
    "\n",
    "\n",
    "a, b = 0, 1\n",
    "\n",
    "\n",
    "\n",
    "\n",
    "for _ in range(n):\n",
    "    print(a, end=' ')\n",
    "    a, b = b, a + b\n"
   ]
  },
  {
   "cell_type": "code",
   "execution_count": 29,
   "id": "9332fd69",
   "metadata": {},
   "outputs": [
    {
     "name": "stdout",
     "output_type": "stream",
     "text": [
      "The strings are not anagrams.\n"
     ]
    }
   ],
   "source": [
    "\n",
    "str1 = input(\"Enter the first string: \").replace(\" \", \"\").lower()\n",
    "str2 = input(\"Enter the second string: \").replace(\" \", \"\").lower()\n",
    "\n",
    "\n",
    "if sorted(str1) == sorted(str2):\n",
    "    print(\"The strings are anagrams.\")\n",
    "else:\n",
    "    print(\"The strings are not anagrams.\")\n"
   ]
  },
  {
   "cell_type": "code",
   "execution_count": 30,
   "id": "133ca1b7",
   "metadata": {},
   "outputs": [
    {
     "name": "stdout",
     "output_type": "stream",
     "text": [
      "Percentage: 60.60%\n",
      "Grade: C\n"
     ]
    }
   ],
   "source": [
    "\n",
    "marks = []\n",
    "for i in range(1, 6):\n",
    "    mark = float(input())\n",
    "    marks.append(mark)\n",
    "\n",
    "\n",
    "total = sum(marks)\n",
    "percentage = (total / 500) * 100\n",
    "\n",
    "\n",
    "if percentage >= 90:\n",
    "    grade = 'A'\n",
    "elif percentage >= 75:\n",
    "    grade = 'B'\n",
    "elif percentage >= 50:\n",
    "    grade = 'C'\n",
    "else:\n",
    "    grade = 'Fail'\n",
    "\n",
    "\n",
    "print(f\"Percentage: {percentage:.2f}%\")\n",
    "print(f\"Grade: {grade}\")\n"
   ]
  },
  {
   "cell_type": "code",
   "execution_count": 31,
   "id": "8bcc4898",
   "metadata": {},
   "outputs": [
    {
     "name": "stdout",
     "output_type": "stream",
     "text": [
      "Prime numbers between 1 and 100:\n",
      "2 3 5 7 11 13 17 19 23 29 31 37 41 43 47 53 59 61 67 71 73 79 83 89 97 "
     ]
    }
   ],
   "source": [
    "\n",
    "print(\"Prime numbers between 1 and 100:\")\n",
    "\n",
    "for num in range(2, 101):  \n",
    "    is_prime = True\n",
    "    for i in range(2, int(num**0.5) + 1):\n",
    "        if num % i == 0:\n",
    "            is_prime = False\n",
    "            break\n",
    "    if is_prime:\n",
    "        print(num, end=' ')\n"
   ]
  },
  {
   "cell_type": "code",
   "execution_count": 32,
   "id": "90aa7aaa",
   "metadata": {},
   "outputs": [
    {
     "name": "stdout",
     "output_type": "stream",
     "text": [
      "Number of words: 1\n"
     ]
    }
   ],
   "source": [
    "\n",
    "sentence = input(\"Enter a sentence: \")\n",
    "\n",
    "in_word = False\n",
    "word_count = 0\n",
    "\n",
    "for char in sentence:\n",
    "    if char != ' ' and not in_word:\n",
    "        word_count += 1\n",
    "        in_word = True\n",
    "    elif char == ' ':\n",
    "        in_word = False\n",
    "\n",
    "\n",
    "print(f\"Number of words: {word_count}\")\n"
   ]
  },
  {
   "cell_type": "code",
   "execution_count": 4,
   "id": "1b0d651d",
   "metadata": {},
   "outputs": [
    {
     "name": "stdout",
     "output_type": "stream",
     "text": [
      "4\n"
     ]
    }
   ],
   "source": [
    "l=[1,2,3,4,5]\n",
    "l.sort()\n",
    "print(l[-2])"
   ]
  },
  {
   "cell_type": "code",
   "execution_count": 5,
   "id": "58a28ab9",
   "metadata": {},
   "outputs": [
    {
     "name": "stdout",
     "output_type": "stream",
     "text": [
      "600\n"
     ]
    }
   ],
   "source": [
    "c=0\n",
    "for i in range(1,50):\n",
    "    if i%2==0:\n",
    "        c=c+i\n",
    "print(c)\n",
    "       "
   ]
  },
  {
   "cell_type": "code",
   "execution_count": 6,
   "id": "fda6f4b7",
   "metadata": {},
   "outputs": [
    {
     "name": "stdout",
     "output_type": "stream",
     "text": [
      "1012\n"
     ]
    }
   ],
   "source": [
    "m=300\n",
    "b=0\n",
    "if m==100:\n",
    "    print(b=5)\n",
    "elif m>100 and m<200:\n",
    "    print(b=12)\n",
    "else:\n",
    "    k=m-200\n",
    "    print(12+k*10)\n",
    "\n",
    "\n",
    "        "
   ]
  },
  {
   "cell_type": "code",
   "execution_count": 7,
   "id": "6bf07065",
   "metadata": {},
   "outputs": [
    {
     "name": "stdout",
     "output_type": "stream",
     "text": [
      "100\n"
     ]
    }
   ],
   "source": [
    "m=10\n",
    "if m>1 and m<5:\n",
    "    print(10)\n",
    "elif m>6 and m<10:\n",
    "    print(50)\n",
    "else:\n",
    "    print(100)"
   ]
  }
 ],
 "metadata": {
  "kernelspec": {
   "display_name": "Python 3",
   "language": "python",
   "name": "python3"
  },
  "language_info": {
   "codemirror_mode": {
    "name": "ipython",
    "version": 3
   },
   "file_extension": ".py",
   "mimetype": "text/x-python",
   "name": "python",
   "nbconvert_exporter": "python",
   "pygments_lexer": "ipython3",
   "version": "3.11.0"
  }
 },
 "nbformat": 4,
 "nbformat_minor": 5
}
