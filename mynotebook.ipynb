{
 "cells": [
  {
   "cell_type": "code",
   "execution_count": 6,
   "id": "adb93679",
   "metadata": {},
   "outputs": [
    {
     "name": "stdout",
     "output_type": "stream",
     "text": [
      "5 3\n"
     ]
    }
   ],
   "source": [
    "a = int(input())   \n",
    "b = int(input())  \n",
    "a = a + b          \n",
    "b = a - b          \n",
    "a = a - b         \n",
    "\n",
    "print(a, b)        \n"
   ]
  },
  {
   "cell_type": "code",
   "execution_count": 9,
   "id": "13881105",
   "metadata": {},
   "outputs": [
    {
     "name": "stdout",
     "output_type": "stream",
     "text": [
      "gnirts \n"
     ]
    }
   ],
   "source": [
    "a=input()\n",
    "b=\" \"\n",
    "for char in a:\n",
    "    b=char+b\n",
    "print(b)"
   ]
  },
  {
   "cell_type": "code",
   "execution_count": 11,
   "id": "ae67867f",
   "metadata": {},
   "outputs": [
    {
     "name": "stdout",
     "output_type": "stream",
     "text": [
      "True\n"
     ]
    }
   ],
   "source": [
    "a=153\n",
    "b=a\n",
    "c=0\n",
    "m=0\n",
    "while(b>0):\n",
    "    d=b%10\n",
    "    c=d**3\n",
    "    m=m+c\n",
    "    b=b//10\n",
    "print(a==m)"
   ]
  },
  {
   "cell_type": "code",
   "execution_count": 12,
   "id": "e89306bb",
   "metadata": {},
   "outputs": [
    {
     "name": "stdout",
     "output_type": "stream",
     "text": [
      "15\n",
      "30\n",
      "45\n",
      "60\n",
      "75\n",
      "90\n"
     ]
    }
   ],
   "source": [
    "for i in range(1,100):\n",
    "    if i%3==0 and i%5==0:\n",
    "        print(i)"
   ]
  },
  {
   "cell_type": "code",
   "execution_count": 14,
   "id": "ac08a704",
   "metadata": {},
   "outputs": [
    {
     "name": "stdout",
     "output_type": "stream",
     "text": [
      "120\n"
     ]
    }
   ],
   "source": [
    "def fact(n):\n",
    "    if n==1 or n==0:\n",
    "       return 1\n",
    "    else:\n",
    "        return n*fact(n-1)\n",
    "num=5\n",
    "print(fact(num))"
   ]
  },
  {
   "cell_type": "code",
   "execution_count": 3,
   "id": "5d244ee3",
   "metadata": {},
   "outputs": [
    {
     "name": "stdout",
     "output_type": "stream",
     "text": [
      "True\n"
     ]
    }
   ],
   "source": [
    "b=2024\n",
    "print(b%4==0)"
   ]
  },
  {
   "cell_type": "code",
   "execution_count": 10,
   "id": "255aeaa1",
   "metadata": {},
   "outputs": [
    {
     "data": {
      "text/plain": [
       "5"
      ]
     },
     "execution_count": 10,
     "metadata": {},
     "output_type": "execute_result"
    }
   ],
   "source": [
    "m=[1,2,5,4,3,6]\n",
    "m.sort()\n",
    "m[-2]"
   ]
  },
  {
   "cell_type": "code",
   "execution_count": 13,
   "id": "a72cd0cb",
   "metadata": {},
   "outputs": [
    {
     "name": "stdout",
     "output_type": "stream",
     "text": [
      "True\n"
     ]
    }
   ],
   "source": [
    "k = \"mom\"\n",
    "print(k == k[::-1]) \n"
   ]
  },
  {
   "cell_type": "code",
   "execution_count": 14,
   "id": "7b762057",
   "metadata": {},
   "outputs": [
    {
     "name": "stdout",
     "output_type": "stream",
     "text": [
      "Vowels: 4\n",
      "Consonants: 5\n"
     ]
    }
   ],
   "source": [
    "\n",
    "sentence = input(\"Enter a sentence: \")\n",
    "\n",
    "\n",
    "vowels = \"aeiouAEIOU\"\n",
    "\n",
    "vowel_count = 0\n",
    "consonant_count = 0\n",
    "\n",
    "\n",
    "for char in sentence:\n",
    "    if char.isalpha():  \n",
    "        if char in vowels:\n",
    "            vowel_count += 1\n",
    "        else:\n",
    "            consonant_count += 1\n",
    "\n",
    "\n",
    "print(\"Vowels:\", vowel_count)\n",
    "print(\"Consonants:\", consonant_count)\n"
   ]
  },
  {
   "cell_type": "code",
   "execution_count": 2,
   "id": "a9cbd80e",
   "metadata": {},
   "outputs": [
    {
     "name": "stdout",
     "output_type": "stream",
     "text": [
      "10 * 1 = 10\n",
      "10 * 2 = 20\n",
      "10 * 3 = 30\n",
      "10 * 4 = 40\n",
      "10 * 5 = 50\n",
      "10 * 6 = 60\n",
      "10 * 7 = 70\n",
      "10 * 8 = 80\n",
      "10 * 9 = 90\n",
      "10 * 10 = 100\n"
     ]
    }
   ],
   "source": [
    "m=10\n",
    "for i in range(1,m+1):\n",
    "    print(m,'*',i,'=',m*i)"
   ]
  }
 ],
 "metadata": {
  "kernelspec": {
   "display_name": "Python 3",
   "language": "python",
   "name": "python3"
  },
  "language_info": {
   "codemirror_mode": {
    "name": "ipython",
    "version": 3
   },
   "file_extension": ".py",
   "mimetype": "text/x-python",
   "name": "python",
   "nbconvert_exporter": "python",
   "pygments_lexer": "ipython3",
   "version": "3.11.0"
  }
 },
 "nbformat": 4,
 "nbformat_minor": 5
}
