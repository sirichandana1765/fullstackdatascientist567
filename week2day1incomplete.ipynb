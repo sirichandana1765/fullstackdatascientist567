{
 "cells": [
  {
   "cell_type": "code",
   "execution_count": 1,
   "id": "a3a3cc3b",
   "metadata": {},
   "outputs": [
    {
     "name": "stdout",
     "output_type": "stream",
     "text": [
      "[0, 1, 1, 2, 3, 5, 8]\n"
     ]
    }
   ],
   "source": [
    "def fibonacci(n):\n",
    "    a, b = 0, 1\n",
    "    res = []\n",
    "    for _ in range(n):\n",
    "        res.append(a)\n",
    "        a, b = b, a+b\n",
    "    return res\n",
    "print(fibonacci(7))"
   ]
  },
  {
   "cell_type": "code",
   "execution_count": 2,
   "id": "84a5f623",
   "metadata": {},
   "outputs": [
    {
     "name": "stdout",
     "output_type": "stream",
     "text": [
      "120\n"
     ]
    }
   ],
   "source": [
    "def factorial(n):\n",
    "    if n == 0 or n == 1:\n",
    "        return 1\n",
    "    return n * factorial(n-1)\n",
    "print(factorial(5))"
   ]
  },
  {
   "cell_type": "code",
   "execution_count": 3,
   "id": "d08af8d6",
   "metadata": {},
   "outputs": [
    {
     "name": "stdout",
     "output_type": "stream",
     "text": [
      "{'apple': 2, 'banana': 2, 'orange': 1}\n"
     ]
    }
   ],
   "source": [
    "def unique_words(s):\n",
    "    words = s.split()\n",
    "    d = {}\n",
    "    for w in words:\n",
    "        d[w] = d.get(w, 0)+1\n",
    "    return d\n",
    "print(unique_words(\"apple banana apple orange banana\"))"
   ]
  },
  {
   "cell_type": "code",
   "execution_count": 4,
   "id": "db474a04",
   "metadata": {},
   "outputs": [
    {
     "name": "stdout",
     "output_type": "stream",
     "text": [
      "Grade: B\n"
     ]
    }
   ],
   "source": [
    "def grade(marks):\n",
    "    avg = sum(marks)/len(marks)\n",
    "    if avg >= 85:\n",
    "        return \"Grade: A\"\n",
    "    elif avg >= 70:\n",
    "        return \"Grade: B\"\n",
    "    else:\n",
    "        return \"Grade: C\"\n",
    "print(grade([85,90,78]))\n"
   ]
  },
  {
   "cell_type": "code",
   "execution_count": 5,
   "id": "2422c408",
   "metadata": {},
   "outputs": [
    {
     "name": "stdout",
     "output_type": "stream",
     "text": [
      "10\n"
     ]
    }
   ],
   "source": [
    "def second_largest(nums):\n",
    "    return sorted(set(nums))[-2]\n",
    "print(second_largest([10,5,20,8]))"
   ]
  },
  {
   "cell_type": "code",
   "execution_count": 6,
   "id": "32d9ba59",
   "metadata": {},
   "outputs": [
    {
     "name": "stdout",
     "output_type": "stream",
     "text": [
      "You borrowed Python 101\n",
      "You returned Python 101\n",
      "Available books: {'Python 101': 3, 'Data Science': 2}\n"
     ]
    }
   ],
   "source": [
    "class Library:\n",
    "    def __init__(self, books): self.books = books\n",
    "    def borrow(self,title):\n",
    "        if self.books.get(title,0)>0:\n",
    "            self.books[title]-=1\n",
    "            return f\"You borrowed {title}\"\n",
    "        return \"Not available\"\n",
    "    def return_book(self,title):\n",
    "        if title in self.books:\n",
    "            self.books[title]+=1\n",
    "            return f\"You returned {title}\"\n",
    "    def show_books(self): print(\"Available books:\", self.books)\n",
    "\n",
    "lib = Library({\"Python 101\":3,\"Data Science\":2})\n",
    "print(lib.borrow(\"Python 101\"))\n",
    "print(lib.return_book(\"Python 101\"))\n",
    "lib.show_books()\n"
   ]
  },
  {
   "cell_type": "code",
   "execution_count": 7,
   "id": "f3b7631f",
   "metadata": {},
   "outputs": [
    {
     "name": "stdout",
     "output_type": "stream",
     "text": [
      "Access Granted\n",
      "Deposited 200\n",
      "Withdrew 100\n",
      "Balance: 600\n"
     ]
    }
   ],
   "source": [
    "class ATM:\n",
    "    def __init__(self,pin,balance):\n",
    "        self.pin = pin\n",
    "        self.balance = balance\n",
    "        self.is_authenticated = False\n",
    "    def login(self,pin):\n",
    "        if pin==self.pin:\n",
    "            self.is_authenticated=True\n",
    "            return \"Access Granted\"\n",
    "        return \"Wrong PIN\"\n",
    "    def check_balance(self):\n",
    "        return f\"Balance: {self.balance}\"\n",
    "    def deposit(self,amt):\n",
    "        self.balance+=amt\n",
    "        return f\"Deposited {amt}\"\n",
    "    def withdraw(self,amt):\n",
    "        if amt<=self.balance:\n",
    "            self.balance-=amt\n",
    "            return f\"Withdrew {amt}\"\n",
    "        return \"Insufficient Funds\"\n",
    "\n",
    "atm = ATM(1234,500)\n",
    "print(atm.login(1234))\n",
    "print(atm.deposit(200))\n",
    "print(atm.withdraw(100))\n",
    "print(atm.check_balance())"
   ]
  },
  {
   "cell_type": "code",
   "execution_count": 8,
   "id": "d59e1d90",
   "metadata": {},
   "outputs": [
    {
     "name": "stdout",
     "output_type": "stream",
     "text": [
      "Dr. Smith is teaching Python\n",
      "Alice enrolled in Python\n",
      "Dr. Smith assigned: Project 1\n",
      "Alice submitted: Project 1\n"
     ]
    }
   ],
   "source": [
    "class Professor:\n",
    "    def __init__(self,name,subject): self.name,self.subject=name,subject\n",
    "    def teach(self,course): return f\"{self.name} is teaching {course}\"\n",
    "    def give_assignment(self,task): return f\"{self.name} assigned: {task}\"\n",
    "\n",
    "class Student:\n",
    "    def __init__(self,name):\n",
    "        self.name=name\n",
    "        self.courses=[]\n",
    "        self.assignments=[]\n",
    "    def enroll(self,course):\n",
    "        self.courses.append(course)\n",
    "        return f\"{self.name} enrolled in {course}\"\n",
    "    def submit_assignment(self,task):\n",
    "        self.assignments.append(task)\n",
    "        return f\"{self.name} submitted: {task}\"\n",
    "\n",
    "prof=Professor(\"Dr. Smith\",\"Computer Science\")\n",
    "stud=Student(\"Alice\")\n",
    "print(prof.teach(\"Python\"))\n",
    "print(stud.enroll(\"Python\"))\n",
    "print(prof.give_assignment(\"Project 1\"))\n",
    "print(stud.submit_assignment(\"Project 1\"))"
   ]
  },
  {
   "cell_type": "code",
   "execution_count": 9,
   "id": "d3a894c2",
   "metadata": {},
   "outputs": [
    {
     "name": "stdout",
     "output_type": "stream",
     "text": [
      "Booked 2 tickets for Avatar\n",
      "Cancelled 1 ticket for Avatar\n",
      "Movies: {'Avatar': 9, 'Batman': 5}\n"
     ]
    }
   ],
   "source": [
    "class Cinema:\n",
    "    def __init__(self,movies): self.movies=movies\n",
    "    def book(self,movie,seats):\n",
    "        if self.movies.get(movie,0)>=seats:\n",
    "            self.movies[movie]-=seats\n",
    "            return f\"Booked {seats} tickets for {movie}\"\n",
    "        return \"Not enough seats\"\n",
    "    def cancel(self,movie,seats):\n",
    "        if movie in self.movies:\n",
    "            self.movies[movie]+=seats\n",
    "            return f\"Cancelled {seats} ticket for {movie}\"\n",
    "    def show_movies(self): print(\"Movies:\",self.movies)\n",
    "\n",
    "cinema=Cinema({\"Avatar\":10,\"Batman\":5})\n",
    "print(cinema.book(\"Avatar\",2))\n",
    "print(cinema.cancel(\"Avatar\",1))\n",
    "cinema.show_movies()\n"
   ]
  },
  {
   "cell_type": "code",
   "execution_count": 10,
   "id": "ca8b3da7",
   "metadata": {},
   "outputs": [
    {
     "name": "stdout",
     "output_type": "stream",
     "text": [
      "Burger added\n",
      "Pizza added\n",
      "Pizza price updated to 250\n",
      "Burger removed\n",
      "Menu: {'Pizza': 250}\n"
     ]
    }
   ],
   "source": [
    "class Menu:\n",
    "    def __init__(self): self.items={}\n",
    "    def add_item(self,name,price):\n",
    "        self.items[name]=price\n",
    "        return f\"{name} added\"\n",
    "    def remove_item(self,name):\n",
    "        if name in self.items:\n",
    "            del self.items[name]\n",
    "            return f\"{name} removed\"\n",
    "    def update_price(self,name,new_price):\n",
    "        if name in self.items:\n",
    "            self.items[name]=new_price\n",
    "            return f\"{name} price updated to {new_price}\"\n",
    "    def show_menu(self): print(\"Menu:\",self.items)\n",
    "\n",
    "menu=Menu()\n",
    "print(menu.add_item(\"Burger\",100))\n",
    "print(menu.add_item(\"Pizza\",200))\n",
    "print(menu.update_price(\"Pizza\",250))\n",
    "print(menu.remove_item(\"Burger\"))\n",
    "menu.show_menu()"
   ]
  },
  {
   "cell_type": "code",
   "execution_count": 11,
   "id": "d2598b20",
   "metadata": {},
   "outputs": [
    {
     "name": "stdout",
     "output_type": "stream",
     "text": [
      "Text files: 2\n",
      "Python files: 2\n"
     ]
    }
   ],
   "source": [
    "import os\n",
    "\n",
    "files = [\"notes.txt\", \"app.py\", \"data.csv\", \"report.txt\", \"main.py\"]\n",
    "txt_count = sum(1 for f in files if f.endswith(\".txt\"))\n",
    "py_count = sum(1 for f in files if f.endswith(\".py\"))\n",
    "print(\"Text files:\", txt_count)\n",
    "print(\"Python files:\", py_count)\n"
   ]
  },
  {
   "cell_type": "code",
   "execution_count": 12,
   "id": "41ad4315",
   "metadata": {},
   "outputs": [
    {
     "name": "stdout",
     "output_type": "stream",
     "text": [
      "Mean = 87.86\n",
      "Median = 90\n",
      "Variance = 73.81\n"
     ]
    }
   ],
   "source": [
    "import statistics\n",
    "\n",
    "scores = [75, 80, 90, 100, 85, 90, 95]\n",
    "print(\"Mean =\", round(statistics.mean(scores), 2))\n",
    "print(\"Median =\", statistics.median(scores))\n",
    "print(\"Variance =\", round(statistics.variance(scores), 2))\n"
   ]
  },
  {
   "cell_type": "code",
   "execution_count": 13,
   "id": "f760794e",
   "metadata": {},
   "outputs": [
    {
     "name": "stdout",
     "output_type": "stream",
     "text": [
      "Roots are: 2.0 and 1.0\n"
     ]
    }
   ],
   "source": [
    "import math\n",
    "\n",
    "a, b, c = 1, -3, 2\n",
    "d = b*b - 4*a*c\n",
    "root1 = (-b + math.sqrt(d)) / (2*a)\n",
    "root2 = (-b - math.sqrt(d)) / (2*a)\n",
    "print(\"Roots are:\", root1, \"and\", root2)\n"
   ]
  },
  {
   "cell_type": "code",
   "execution_count": 14,
   "id": "91a8b7d7",
   "metadata": {},
   "outputs": [
    {
     "name": "stdout",
     "output_type": "stream",
     "text": [
      "You chose Rock , Computer chose Rock\n",
      "Draw\n"
     ]
    }
   ],
   "source": [
    "import random\n",
    "\n",
    "user = \"Rock\"\n",
    "comp = random.choice([\"Rock\", \"Paper\", \"Scissors\"])\n",
    "print(\"You chose\", user, \", Computer chose\", comp)\n",
    "\n",
    "if user == comp:\n",
    "    print(\"Draw\")\n",
    "elif (user == \"Rock\" and comp == \"Scissors\") or (user == \"Paper\" and comp == \"Rock\") or (user == \"Scissors\" and comp == \"Paper\"):\n",
    "    print(\"You Win!\")\n",
    "else:\n",
    "    print(\"You Lose!\")\n"
   ]
  }
 ],
 "metadata": {
  "kernelspec": {
   "display_name": "Python 3",
   "language": "python",
   "name": "python3"
  },
  "language_info": {
   "codemirror_mode": {
    "name": "ipython",
    "version": 3
   },
   "file_extension": ".py",
   "mimetype": "text/x-python",
   "name": "python",
   "nbconvert_exporter": "python",
   "pygments_lexer": "ipython3",
   "version": "3.11.0"
  }
 },
 "nbformat": 4,
 "nbformat_minor": 5
}
