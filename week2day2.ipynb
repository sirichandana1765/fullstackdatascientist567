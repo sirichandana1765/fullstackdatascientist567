{
 "cells": [
  {
   "cell_type": "code",
   "execution_count": 10,
   "id": "8904aea3",
   "metadata": {},
   "outputs": [
    {
     "name": "stdout",
     "output_type": "stream",
     "text": [
      "5\n"
     ]
    }
   ],
   "source": [
    "p = open(\"apple.txt\", \"r\")\n",
    "c=p.read()\n",
    "m=c.split()\n",
    "print(len(m))\n",
    "\n"
   ]
  },
  {
   "cell_type": "code",
   "execution_count": 15,
   "id": "9c9bc463",
   "metadata": {},
   "outputs": [
    {
     "name": "stdout",
     "output_type": "stream",
     "text": [
      "13\n"
     ]
    }
   ],
   "source": [
    "n=int(input())\n",
    "p=int(input())\n",
    "k=input()\n",
    "if k=='+':\n",
    "    print(n+p)\n",
    "elif k=='-':\n",
    "    print(n-p)\n",
    "elif k=='*':\n",
    "    print(n*p)\n",
    "elif k=='/':\n",
    "    print(n/p)\n",
    "else:\n",
    "    print(\"invalid error\")"
   ]
  },
  {
   "cell_type": "code",
   "execution_count": 19,
   "id": "94439591",
   "metadata": {},
   "outputs": [
    {
     "name": "stdout",
     "output_type": "stream",
     "text": [
      "[2, 3]\n"
     ]
    }
   ],
   "source": [
    "n=list(map(int,input().split()))\n",
    "p=set()\n",
    "k=set()\n",
    "for i in n:\n",
    "    if i  not in p:\n",
    "        p.add(i)\n",
    "    else:\n",
    "        k.add(i)\n",
    "print(list(k))\n",
    "\n",
    "    "
   ]
  },
  {
   "cell_type": "code",
   "execution_count": 20,
   "id": "7f941b88",
   "metadata": {},
   "outputs": [
    {
     "name": "stdout",
     "output_type": "stream",
     "text": [
      "163.8\n"
     ]
    }
   ],
   "source": [
    "f=int(input())\n",
    "c=(f-32)*(9/5)\n",
    "print(c)"
   ]
  },
  {
   "cell_type": "code",
   "execution_count": 21,
   "id": "8e49a6ed",
   "metadata": {},
   "outputs": [
    {
     "name": "stdout",
     "output_type": "stream",
     "text": [
      "6\n"
     ]
    }
   ],
   "source": [
    "m=list(map(int,input().split()))\n",
    "print(max(m))"
   ]
  },
  {
   "cell_type": "code",
   "execution_count": 23,
   "id": "2fe9875c",
   "metadata": {},
   "outputs": [
    {
     "name": "stdout",
     "output_type": "stream",
     "text": [
      "98.72\n"
     ]
    }
   ],
   "source": [
    "p=int(input())\n",
    "T=int(input())\n",
    "r=int(input())\n",
    "sI=(p*T*r)/100\n",
    "print(sI)"
   ]
  },
  {
   "cell_type": "code",
   "execution_count": 27,
   "id": "42460adb",
   "metadata": {},
   "outputs": [
    {
     "name": "stdout",
     "output_type": "stream",
     "text": [
      "wer\n"
     ]
    }
   ],
   "source": [
    "\n",
    "n = int(input()) \n",
    "s = {}\n",
    "\n",
    "for i in range(n):\n",
    "    n = input()         \n",
    "    m = int(input())   \n",
    "    s[n] = m\n",
    "for n in s:\n",
    "    if s[n]<75:\n",
    "        print(n)\n"
   ]
  },
  {
   "cell_type": "code",
   "execution_count": 30,
   "id": "93825500",
   "metadata": {},
   "outputs": [
    {
     "name": "stdout",
     "output_type": "stream",
     "text": [
      "10\n"
     ]
    }
   ],
   "source": [
    "m=int(input())\n",
    "c=0\n",
    "p=0\n",
    "while m>0:\n",
    "    c=m%10\n",
    "    p=p+c\n",
    "    m=m//10\n",
    "print(p)"
   ]
  },
  {
   "cell_type": "code",
   "execution_count": 68,
   "id": "e6e72b99",
   "metadata": {},
   "outputs": [
    {
     "name": "stdout",
     "output_type": "stream",
     "text": [
      "Prime\n"
     ]
    }
   ],
   "source": [
    "m=int(input())\n",
    "\n",
    "if m <= 1:\n",
    "    print(\"Not Prime\")\n",
    "else:\n",
    "    for i in range(2, m):\n",
    "        if m % i == 0:\n",
    "            print(\"Not Prime\")\n",
    "            break\n",
    "    else:\n",
    "        print(\"Prime\")\n"
   ]
  },
  {
   "cell_type": "code",
   "execution_count": 36,
   "id": "c943ae76",
   "metadata": {},
   "outputs": [
    {
     "name": "stdout",
     "output_type": "stream",
     "text": [
      "1\n",
      "6\n"
     ]
    }
   ],
   "source": [
    "p=list(map(int,input().split()))\n",
    "print(min(p))\n",
    "print(max(p))"
   ]
  },
  {
   "cell_type": "code",
   "execution_count": 39,
   "id": "fa0ccc80",
   "metadata": {},
   "outputs": [
    {
     "name": "stdout",
     "output_type": "stream",
     "text": [
      "431\n"
     ]
    }
   ],
   "source": [
    "n=2\n",
    "k={}\n",
    "l=0\n",
    "for i in range(n):\n",
    "    m=input()\n",
    "    p=int(input())\n",
    "    k[m]=p\n",
    "for m in k:\n",
    "    l=l+k[m]\n",
    "print(l)\n",
    "\n"
   ]
  },
  {
   "cell_type": "code",
   "execution_count": 40,
   "id": "a5d45cdb",
   "metadata": {},
   "outputs": [
    {
     "name": "stdout",
     "output_type": "stream",
     "text": [
      "9\n"
     ]
    }
   ],
   "source": [
    "a=int(input())\n",
    "b=int(input())\n",
    "c=int(input())\n",
    "if a>b and a>c:\n",
    "    print(a)\n",
    "elif b>c and b>a:\n",
    "    print(b)\n",
    "else:\n",
    "    print(c)"
   ]
  },
  {
   "cell_type": "code",
   "execution_count": 50,
   "id": "c6725c93",
   "metadata": {},
   "outputs": [
    {
     "name": "stdout",
     "output_type": "stream",
     "text": [
      "Counter({'l': 2, 'h': 1, 'e': 1, 'o': 1})\n"
     ]
    }
   ],
   "source": [
    "from collections import Counter\n",
    "text = input()\n",
    "char_count = Counter(text)\n",
    "print(char_count)\n"
   ]
  },
  {
   "cell_type": "code",
   "execution_count": 51,
   "id": "b051dd5c",
   "metadata": {},
   "outputs": [
    {
     "name": "stdout",
     "output_type": "stream",
     "text": [
      "4321\n"
     ]
    }
   ],
   "source": [
    "n=int(input())\n",
    "p=str(n)\n",
    "print(p[::-1])"
   ]
  },
  {
   "cell_type": "code",
   "execution_count": 52,
   "id": "b8ae64bc",
   "metadata": {},
   "outputs": [
    {
     "name": "stdout",
     "output_type": "stream",
     "text": [
      "3 2 3\n"
     ]
    }
   ],
   "source": [
    "p=list(map(int,input().split()))\n",
    "c,m,k=0,0,0\n",
    "for i in p:\n",
    "    if i>0:\n",
    "        c=c+1\n",
    "    elif i<0:\n",
    "        k=k+1\n",
    "    else:\n",
    "        m=m+1\n",
    "print(c,m,k)"
   ]
  },
  {
   "cell_type": "code",
   "execution_count": 55,
   "id": "7648c3ef",
   "metadata": {},
   "outputs": [
    {
     "name": "stdout",
     "output_type": "stream",
     "text": [
      "correct\n"
     ]
    }
   ],
   "source": [
    "\n",
    "p=5672\n",
    "for i in range(3):\n",
    "    m=int(input())\n",
    "    if m==p:\n",
    "        print(\"correct\")\n",
    "        break\n",
    "    else:\n",
    "        print(\"enter the correct pin\")"
   ]
  },
  {
   "cell_type": "code",
   "execution_count": 56,
   "id": "fbce888c",
   "metadata": {},
   "outputs": [
    {
     "name": "stdout",
     "output_type": "stream",
     "text": [
      "cannot be executed\n"
     ]
    }
   ],
   "source": [
    "try:\n",
    "    a=int(input())\n",
    "    b=int(input())\n",
    "    c=a/b\n",
    "    print(c)\n",
    "except:\n",
    "    print(\"cannot be executed\")"
   ]
  },
  {
   "cell_type": "code",
   "execution_count": 69,
   "id": "e4e2ab17",
   "metadata": {},
   "outputs": [
    {
     "ename": "Exception",
     "evalue": "no",
     "output_type": "error",
     "traceback": [
      "\u001b[31m---------------------------------------------------------------------------\u001b[39m",
      "\u001b[31mException\u001b[39m                                 Traceback (most recent call last)",
      "\u001b[36mCell\u001b[39m\u001b[36m \u001b[39m\u001b[32mIn[69]\u001b[39m\u001b[32m, line 5\u001b[39m\n\u001b[32m      2\u001b[39m b = \u001b[38;5;28mint\u001b[39m(\u001b[38;5;28minput\u001b[39m())  \n\u001b[32m      4\u001b[39m \u001b[38;5;28;01mif\u001b[39;00m b > a:\n\u001b[32m----> \u001b[39m\u001b[32m5\u001b[39m     \u001b[38;5;28;01mraise\u001b[39;00m \u001b[38;5;167;01mException\u001b[39;00m(\u001b[33m\"\u001b[39m\u001b[33mno\u001b[39m\u001b[33m\"\u001b[39m) \n\u001b[32m      6\u001b[39m \u001b[38;5;28;01melse\u001b[39;00m:\n\u001b[32m      7\u001b[39m     c = a - b\n",
      "\u001b[31mException\u001b[39m: no"
     ]
    }
   ],
   "source": [
    "\n",
    "a = 1000\n",
    "b = int(input())  \n",
    "\n",
    "if b > a:\n",
    "    raise Exception(\"no\") \n",
    "else:\n",
    "    c = a - b\n",
    "    print(c)  \n",
    "\n",
    "\n"
   ]
  },
  {
   "cell_type": "code",
   "execution_count": 70,
   "id": "751b75da",
   "metadata": {},
   "outputs": [
    {
     "name": "stdout",
     "output_type": "stream",
     "text": [
      "8.0\n",
      "8\n"
     ]
    }
   ],
   "source": [
    "import math\n",
    "print(math.pow(2,3))\n",
    "print(2**3)"
   ]
  },
  {
   "cell_type": "code",
   "execution_count": 71,
   "id": "69c5facb",
   "metadata": {},
   "outputs": [
    {
     "name": "stdout",
     "output_type": "stream",
     "text": [
      "3\n"
     ]
    }
   ],
   "source": [
    "import sys\n",
    "print(sys.version_info[0])"
   ]
  },
  {
   "cell_type": "code",
   "execution_count": 73,
   "id": "7c9cef81",
   "metadata": {},
   "outputs": [
    {
     "data": {
      "text/plain": [
       "10"
      ]
     },
     "execution_count": 73,
     "metadata": {},
     "output_type": "execute_result"
    }
   ],
   "source": [
    "def f(x):\n",
    "    if x==0:\n",
    "        return 0\n",
    "    else:\n",
    "        return x+f(x-1)\n",
    "f(4)"
   ]
  },
  {
   "cell_type": "code",
   "execution_count": 75,
   "id": "072df006",
   "metadata": {},
   "outputs": [
    {
     "name": "stdout",
     "output_type": "stream",
     "text": [
      "1.0\n"
     ]
    }
   ],
   "source": [
    "try:\n",
    "    print(1/1)\n",
    "except:\n",
    "    print(\"error\")"
   ]
  },
  {
   "cell_type": "code",
   "execution_count": null,
   "id": "3330c038",
   "metadata": {},
   "outputs": [],
   "source": [
    "with open(\"apple.txt\",\"r\") as f\n",
    "f.write(\"python\")\n"
   ]
  },
  {
   "cell_type": "code",
   "execution_count": 79,
   "id": "cd41cf9b",
   "metadata": {},
   "outputs": [
    {
     "name": "stdout",
     "output_type": "stream",
     "text": [
      "a\n",
      "b\n"
     ]
    }
   ],
   "source": [
    "try:\n",
    "    print(\"a\")\n",
    "    raise ValueError\n",
    "except ValueError:\n",
    "    print(\"b\")"
   ]
  },
  {
   "cell_type": "code",
   "execution_count": 77,
   "id": "89ed8d32",
   "metadata": {},
   "outputs": [
    {
     "name": "stdout",
     "output_type": "stream",
     "text": [
      "1\n"
     ]
    }
   ],
   "source": [
    "import random\n",
    "random.seed(2)\n",
    "print(random.randint(1,5))"
   ]
  },
  {
   "cell_type": "code",
   "execution_count": 65,
   "id": "20e95a72",
   "metadata": {},
   "outputs": [
    {
     "name": "stdout",
     "output_type": "stream",
     "text": [
      "1700\n"
     ]
    }
   ],
   "source": [
    "n=int(input())\n",
    "if n<=100:\n",
    "    print(n*5)\n",
    "elif  n<=200:\n",
    "    print((100*5)+((n-100)*7))\n",
    "else:\n",
    "    print((100*5)+(100*7)+(n-200)*10)\n"
   ]
  }
 ],
 "metadata": {
  "kernelspec": {
   "display_name": "Python 3",
   "language": "python",
   "name": "python3"
  },
  "language_info": {
   "codemirror_mode": {
    "name": "ipython",
    "version": 3
   },
   "file_extension": ".py",
   "mimetype": "text/x-python",
   "name": "python",
   "nbconvert_exporter": "python",
   "pygments_lexer": "ipython3",
   "version": "3.11.0"
  }
 },
 "nbformat": 4,
 "nbformat_minor": 5
}
