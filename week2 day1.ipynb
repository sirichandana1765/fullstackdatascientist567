{
 "cells": [
  {
   "cell_type": "code",
   "execution_count": null,
   "id": "a0403a4c",
   "metadata": {},
   "outputs": [
    {
     "name": "stdout",
     "output_type": "stream",
     "text": [
      "hello\n"
     ]
    }
   ],
   "source": []
  },
  {
   "cell_type": "code",
   "execution_count": 5,
   "id": "f9b7d2bb",
   "metadata": {},
   "outputs": [
    {
     "name": "stdout",
     "output_type": "stream",
     "text": [
      "{2, 3, 5, 7, 9, 11, 13, 15, 17, 19}\n"
     ]
    }
   ],
   "source": [
    "def prime(n):\n",
    "    k=set()\n",
    "    for i in range(2,n+1):\n",
    "        if i==2 or i%2!=0:\n",
    "            k.add(i)\n",
    "    print(k)\n",
    "prime(20)\n",
    "\n",
    "            "
   ]
  },
  {
   "cell_type": "code",
   "execution_count": 14,
   "id": "10e161d3",
   "metadata": {},
   "outputs": [
    {
     "name": "stdout",
     "output_type": "stream",
     "text": [
      "false\n"
     ]
    }
   ],
   "source": [
    "def palin(n):\n",
    "    m=n\n",
    "    n.lower()\n",
    "    m.lower()\n",
    "    if m==n[::-1]:\n",
    "        print(\"true\")\n",
    "    else:\n",
    "        print(\"false\")\n",
    "palin(\"Neveroddoreven\")\n"
   ]
  },
  {
   "cell_type": "code",
   "execution_count": 17,
   "id": "b046f744",
   "metadata": {},
   "outputs": [
    {
     "ename": "AttributeError",
     "evalue": "'str' object has no attribute 'sort'",
     "output_type": "error",
     "traceback": [
      "\u001b[31m---------------------------------------------------------------------------\u001b[39m",
      "\u001b[31mAttributeError\u001b[39m                            Traceback (most recent call last)",
      "\u001b[36mCell\u001b[39m\u001b[36m \u001b[39m\u001b[32mIn[17]\u001b[39m\u001b[32m, line 8\u001b[39m\n\u001b[32m      6\u001b[39m     \u001b[38;5;28;01melse\u001b[39;00m:\n\u001b[32m      7\u001b[39m         \u001b[38;5;28mprint\u001b[39m(\u001b[33m\"\u001b[39m\u001b[33mfalse\u001b[39m\u001b[33m\"\u001b[39m)\n\u001b[32m----> \u001b[39m\u001b[32m8\u001b[39m \u001b[43managram\u001b[49m\u001b[43m(\u001b[49m\u001b[33;43m\"\u001b[39;49m\u001b[33;43mlisten\u001b[39;49m\u001b[33;43m\"\u001b[39;49m\u001b[43m,\u001b[49m\u001b[33;43m\"\u001b[39;49m\u001b[33;43msilent\u001b[39;49m\u001b[33;43m\"\u001b[39;49m\u001b[43m)\u001b[49m\n",
      "\u001b[36mCell\u001b[39m\u001b[36m \u001b[39m\u001b[32mIn[17]\u001b[39m\u001b[32m, line 2\u001b[39m, in \u001b[36managram\u001b[39m\u001b[34m(m, n)\u001b[39m\n\u001b[32m      1\u001b[39m \u001b[38;5;28;01mdef\u001b[39;00m\u001b[38;5;250m \u001b[39m\u001b[34managram\u001b[39m(m,n):\n\u001b[32m----> \u001b[39m\u001b[32m2\u001b[39m     \u001b[43mm\u001b[49m\u001b[43m.\u001b[49m\u001b[43msort\u001b[49m()\n\u001b[32m      3\u001b[39m     n.sort()\n\u001b[32m      4\u001b[39m     \u001b[38;5;28;01mif\u001b[39;00m m==n:\n",
      "\u001b[31mAttributeError\u001b[39m: 'str' object has no attribute 'sort'"
     ]
    }
   ],
   "source": [
    "def anagram(m,n):\n",
    "    m.sort()\n",
    "    n.sort()\n",
    "    if m==n:\n",
    "        print(\"true\")\n",
    "    else:\n",
    "        print(\"false\")\n",
    "anagram(\"listen\",\"silent\")"
   ]
  },
  {
   "cell_type": "code",
   "execution_count": 18,
   "id": "c9500bc1",
   "metadata": {},
   "outputs": [
    {
     "name": "stdout",
     "output_type": "stream",
     "text": [
      "5.0\n"
     ]
    }
   ],
   "source": [
    "import math\n",
    "print(math.sqrt(25))"
   ]
  },
  {
   "cell_type": "code",
   "execution_count": 26,
   "id": "3d07adfa",
   "metadata": {},
   "outputs": [
    {
     "name": "stdout",
     "output_type": "stream",
     "text": [
      "amazing\n"
     ]
    }
   ],
   "source": [
    "def longest(m):\n",
    "    words=m.split()\n",
    "    for i in words:\n",
    "        m=max(words,key=len)\n",
    "    print(m)\n",
    "longest(\"Python is amazing\")"
   ]
  },
  {
   "cell_type": "code",
   "execution_count": 29,
   "id": "ff24da2d",
   "metadata": {},
   "outputs": [
    {
     "name": "stdout",
     "output_type": "stream",
     "text": [
      "2 3\n"
     ]
    }
   ],
   "source": [
    "def count(m):\n",
    "    k={'a','i','e','o','u'}\n",
    "    c,p=0,0\n",
    "    for i in m:\n",
    "        if i in k:\n",
    "            c=c+1\n",
    "        else:\n",
    "            p=p+1\n",
    "    print(c,p)\n",
    "count(\"hello\")\n"
   ]
  },
  {
   "cell_type": "code",
   "execution_count": null,
   "id": "601e46eb",
   "metadata": {},
   "outputs": [],
   "source": [
    "def count(**prime):\n",
    "    k=set()\n",
    "    for i in prime:\n",
    "        k=prime.count(i)\n",
    "        prime.remove(i)\n"
   ]
  },
  {
   "cell_type": "code",
   "execution_count": null,
   "id": "4d373b9a",
   "metadata": {},
   "outputs": [
    {
     "ename": "NameError",
     "evalue": "name 'amount' is not defined",
     "output_type": "error",
     "traceback": [
      "\u001b[31m---------------------------------------------------------------------------\u001b[39m",
      "\u001b[31mNameError\u001b[39m                                 Traceback (most recent call last)",
      "\u001b[36mCell\u001b[39m\u001b[36m \u001b[39m\u001b[32mIn[32]\u001b[39m\u001b[32m, line 1\u001b[39m\n\u001b[32m----> \u001b[39m\u001b[32m1\u001b[39m \u001b[38;5;28;01mclass\u001b[39;00m\u001b[38;5;250m \u001b[39m\u001b[34;01mbank\u001b[39;00m(\u001b[43mamount\u001b[49m):\n\u001b[32m      2\u001b[39m     \u001b[38;5;28;01mdef\u001b[39;00m\u001b[38;5;250m \u001b[39m\u001b[34mdeposit\u001b[39m(a):\n\u001b[32m      3\u001b[39m         amount=amount+a\n",
      "\u001b[31mNameError\u001b[39m: name 'amount' is not defined"
     ]
    }
   ],
   "source": [
    "class Bank:\n",
    "    def __init__(self, initial_amount=0):\n",
    "        self.amount = initial_amount  # Instance variable to hold balance\n",
    "\n",
    "    def deposit(self, a):\n",
    "        self.amount += a\n",
    "        print(f\"Deposited {a}. New balance: {self.amount}\")\n",
    "\n",
    "    def withdraw(self, b):\n",
    "        if b > self.amount:\n",
    "            print(\"Insufficient funds!\")\n",
    "        else:\n",
    "            self.amount -= b\n",
    "            print(f\"Withdrew {b}. New balance: {self.amount}\")\n",
    "\n",
    "    def get_balance(self):\n",
    "        return self.amount\n",
    "\n",
    "\n",
    "# Usage\n",
    "acc = Bank(100)          # Start with 100\n",
    "acc.deposit(50)          # Deposit 50\n",
    "acc.withdraw(30)         # Withdraw 30\n",
    "print(acc.get_balance()) # Get current balance\n",
    "\n",
    "\n",
    "\n",
    "\n",
    "\n",
    "\n"
   ]
  },
  {
   "cell_type": "code",
   "execution_count": null,
   "id": "189ae081",
   "metadata": {},
   "outputs": [],
   "source": [
    "cla"
   ]
  },
  {
   "cell_type": "code",
   "execution_count": null,
   "id": "b0e14250",
   "metadata": {},
   "outputs": [],
   "source": []
  }
 ],
 "metadata": {
  "kernelspec": {
   "display_name": "Python 3",
   "language": "python",
   "name": "python3"
  },
  "language_info": {
   "codemirror_mode": {
    "name": "ipython",
    "version": 3
   },
   "file_extension": ".py",
   "mimetype": "text/x-python",
   "name": "python",
   "nbconvert_exporter": "python",
   "pygments_lexer": "ipython3",
   "version": "3.11.0"
  }
 },
 "nbformat": 4,
 "nbformat_minor": 5
}
